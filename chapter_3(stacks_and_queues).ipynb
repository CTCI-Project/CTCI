{
  "nbformat": 4,
  "nbformat_minor": 0,
  "metadata": {
    "colab": {
      "name": "chapter 3(stacks and queues).ipynb",
      "provenance": [],
      "collapsed_sections": []
    },
    "kernelspec": {
      "name": "python3",
      "display_name": "Python 3"
    }
  },
  "cells": [
    {
      "cell_type": "code",
      "metadata": {
        "id": "k0YhtuMfmpCE"
      },
      "source": [
        "#Implementing a Stack\r\n",
        "class Stack:\r\n",
        "  def __init__(self):\r\n",
        "    self.pylist = []\r\n",
        "\r\n",
        "  def pop(self):\r\n",
        "    return self.pylist.pop()\r\n",
        "\r\n",
        "  def push(self, item):\r\n",
        "    self.pylist.append(item)\r\n",
        "  \r\n",
        "  def peek(self):\r\n",
        "    return self.pylist[-1]\r\n",
        "\r\n",
        "  def isEmpty(self):\r\n",
        "    return (len(self.pylist) == 0)\r\n",
        "  \r\n",
        "  def print(self):\r\n",
        "    for item in stack:\r\n",
        "      print(item)\r\n"
      ],
      "execution_count": null,
      "outputs": []
    },
    {
      "cell_type": "code",
      "metadata": {
        "id": "yQZQjrs3n-K6"
      },
      "source": [
        "# Implementing a Queue\r\n",
        "class Queue:\r\n",
        "  def __init__(self):\r\n",
        "    self.pylist = []\r\n",
        "\r\n",
        "  def add(self, item):\r\n",
        "    self.pylist.append(item)\r\n",
        "\r\n",
        "  def remove(self):\r\n",
        "    self.pylist.remove(self.pylist[0])"
      ],
      "execution_count": null,
      "outputs": []
    },
    {
      "cell_type": "markdown",
      "metadata": {
        "id": "1-ua1u540X8B"
      },
      "source": [
        "## Q 3.1 Three In One\r\n",
        "\r\n",
        "python에서 굳이 그럴 필요는 없지만 책에서 원하는 방식인 fixed array처럼 구현했다.\r\n",
        "\r\n",
        "Fixed Array이므로 stackSize를 처음에 생성할 때 정해주어야하며, 만약 추가로 더 넣거나 해야 한다면 error가 나온다.\r\n",
        "Full 할 때도 push가 가능하게 하려면 array를 2배로 키우고 copy하거나 하는 방식을 선택해야 하지만 구현하지 않았다.\r\n",
        "\r\n",
        "stack Size의 3배 길이의 list를 생성한 뒤, 1/3 씩 하나의 stack 처럼 사용하였다.\r\n",
        "\r\n",
        "이때 각각의 stack size를 알아야 push, pop이 가능하므로, size를 표시해주는 sizes라는 list를 생성해 사용하였다."
      ]
    },
    {
      "cell_type": "code",
      "metadata": {
        "id": "o7erCCqG0d9X"
      },
      "source": [
        "# Q 3.1 Three in One\r\n",
        "class ThreeInOneStack:\r\n",
        "  def __init__(self, stackSize):\r\n",
        "    self.arr = [None for _ in range(stackSize*3)]\r\n",
        "    self.sizes = [0 for _ in range(3)]\r\n",
        "    self.stackSize = stackSize\r\n",
        "  \r\n",
        "  def push(self, stack_num, data):\r\n",
        "    self.arr[self.sizes[stack_num] + self.stackSize*stack_num] = data\r\n",
        "    self.sizes[stack_num] += 1\r\n",
        "  \r\n",
        "  def pop(self, stack_num):\r\n",
        "    returnVal = self.arr[self.sizes[stack_num] + self.stackSize*stack_num - 1]\r\n",
        "    self.arr[self.sizes[stack_num] + self.stackSize*stack_num - 1] = None\r\n",
        "    self.sizes[stack_num] -= 1\r\n",
        "    return returnVal\r\n",
        "\r\n",
        "  def peek(self, stack_num):\r\n",
        "    return self.arr[self.sizes[stack_num] + self.stackSize*stack_num]\r\n",
        "\r\n",
        "  def isEmpty(self, stack_num):\r\n",
        "    return self.sizes[stack_num] == 0"
      ],
      "execution_count": null,
      "outputs": []
    },
    {
      "cell_type": "code",
      "metadata": {
        "id": "3JvKXSUz1SZQ"
      },
      "source": [
        "stack = ThreeInOneStack(3)\r\n",
        "stack.push(0, 1)\r\n",
        "stack.push(1, 2)\r\n",
        "stack.push(2, 3)\r\n",
        "stack.push(2, 4)\r\n",
        "\r\n",
        "print(stack.arr)\r\n",
        "stack.pop(2)\r\n",
        "stack.pop(2)\r\n",
        "\r\n",
        "print(stack.arr)\r\n",
        "print(stack.isEmpty(2))"
      ],
      "execution_count": null,
      "outputs": []
    },
    {
      "cell_type": "markdown",
      "metadata": {
        "id": "jL7renHwJHRp"
      },
      "source": [
        "## Q 3.2 Stack Min\r\n",
        "\r\n",
        "O(1) 시간에 min()을 구현하기 위해서 constructor에 \"minimum\"이라는 변수를 추가했다.\r\n",
        "\r\n",
        "min() 메소드에서는 단지 self.minimum의 값을 리턴하면 된다. "
      ]
    },
    {
      "cell_type": "code",
      "metadata": {
        "colab": {
          "base_uri": "https://localhost:8080/"
        },
        "id": "onLRFGd8dXMM",
        "outputId": "30e28039-408b-4e23-faaa-2629a94e9b36"
      },
      "source": [
        "# Q 3.2 Stack Min\r\n",
        "class Stack:\r\n",
        "  def __init__(self):\r\n",
        "    self.pylist = []\r\n",
        "    self.minimum = None\r\n",
        "\r\n",
        "  def pop(self):\r\n",
        "    result = self.pylist.pop()\r\n",
        "    if result == self.minimum:\r\n",
        "      self.minimum =\r\n",
        "      for val in self.pylist:\r\n",
        "        if self.minimum == None or self.minimum > val:\r\n",
        "          self.minimum = val\r\n",
        "    return result\r\n",
        "\r\n",
        "  def push(self, item):\r\n",
        "    self.pylist.append(item)\r\n",
        "    if self.minimum == None or self.minimum > item:\r\n",
        "      self.minimum = item\r\n",
        "\r\n",
        "  def min(self):\r\n",
        "    return self.minimum\r\n",
        "\r\n",
        "st = Stack()\r\n",
        "st.push(111)\r\n",
        "st.push(4)\r\n",
        "st.push(1)\r\n",
        "\r\n",
        "st.pop()\r\n",
        "print(st.min())\r\n",
        "\r\n"
      ],
      "execution_count": null,
      "outputs": [
        {
          "output_type": "stream",
          "text": [
            "4\n"
          ],
          "name": "stdout"
        }
      ]
    },
    {
      "cell_type": "markdown",
      "metadata": {
        "id": "p0vW92NC1T-G"
      },
      "source": [
        "## Q 3.3 Stack of Plates\r\n",
        "Stack이 일정 threshold를 넘어가지 않게, 넘어갈 경우 새로운 stack을 생성해서 이어나가는 자료 구조이다.\r\n",
        "\r\n",
        "단순히 pop할 때는 마지막 stack에서 pop을 하도록 했고, 이 때 마지막 stack이 empty될 경우 empty stack 자체를 지우도록 했다.\r\n",
        "\r\n",
        "push할 때는 마지막 stack에 push를 하는데, 이 때 마지막 stack이 threshold를 넘어가지 않도록 threshold만큼 차있는 stack의 경우 다음 stack을 새롭게 만들어서 그 stack에 push한다.\r\n",
        "\r\n",
        "popAt function의 경우 index에 위치한 stack에서 pop을 하는데, 이 때 그냥 pop과 마찮가지로 만약 그 stack이 empty될 경우 stack 자체를 삭제하도록 한다."
      ]
    },
    {
      "cell_type": "code",
      "metadata": {
        "id": "2ZBm6e-91aSH"
      },
      "source": [
        "# Q 3.3 Stack of Plates\r\n",
        "class SetOfStacks:\r\n",
        "  def __init__(self, threshold):\r\n",
        "    self.stacks = []\r\n",
        "    self.stacks.append(Stack())\r\n",
        "    self.threshold = threshold\r\n",
        "  \r\n",
        "  def pop(self):\r\n",
        "    popVal = self.stacks[-1].pop()\r\n",
        "    if self.stacks[-1].isEmpty():\r\n",
        "      self.stacks.pop()\r\n",
        "    return popVal\r\n",
        "  \r\n",
        "  def push(self, item):\r\n",
        "    if len(self.stacks[-1].pylist) == self.threshold:\r\n",
        "      self.stacks.append(Stack())\r\n",
        "    self.stacks[-1].push(item)\r\n",
        "  \r\n",
        "  def print(self):\r\n",
        "    for stack in self.stacks:\r\n",
        "      print(stack.pylist)\r\n",
        "  \r\n",
        "  def popAt(self, index):\r\n",
        "    popVal = self.stacks[index].pop()\r\n",
        "    if self.stacks[index].isEmpty():\r\n",
        "      self.stacks.pop(index)\r\n",
        "    return popVal"
      ],
      "execution_count": null,
      "outputs": []
    },
    {
      "cell_type": "code",
      "metadata": {
        "id": "xFnTu4_l1btb"
      },
      "source": [
        "sstacks = SetOfStacks(3)\r\n",
        "for i in range(10):\r\n",
        "  sstacks.push(i)\r\n",
        "sstacks.print()\r\n",
        "sstacks.pop()\r\n",
        "sstacks.print()\r\n",
        "\r\n",
        "for i in range(2):\r\n",
        "  sstacks.popAt(1)\r\n",
        "sstacks.print()"
      ],
      "execution_count": null,
      "outputs": []
    },
    {
      "cell_type": "markdown",
      "metadata": {
        "id": "i4G0acHgJhrQ"
      },
      "source": [
        "## Q 3.4 Queue via Stacks\r\n",
        "\r\n",
        "Stack 두개로 queue를 구현하기 위해 shiftStack()이라는 메소드를 추가했다.\r\n",
        "\r\n",
        "이 shiftStack은 필요할시 기존의 stack을 거꾸로 뒤집어서 queue처럼 FIFO 순서로 작용할 수 있게 한다. "
      ]
    },
    {
      "cell_type": "code",
      "metadata": {
        "colab": {
          "base_uri": "https://localhost:8080/"
        },
        "id": "tMr75VdYhWoo",
        "outputId": "08f02ee7-c95e-499e-9fef-d62217deb1b4"
      },
      "source": [
        "# 3.4 Queue via Stacks\r\n",
        "\r\n",
        "class MyQueue:\r\n",
        "\r\n",
        "  def __init__(self):\r\n",
        "    self.aStack = Stack()\r\n",
        "    self.bStack = Stack()\r\n",
        "\r\n",
        "  def add(self, item):\r\n",
        "    self.aStack.push(item)\r\n",
        "\r\n",
        "  def remove(self):\r\n",
        "    return self.bStack.pop()\r\n",
        "\r\n",
        "  def shiftStack(self):\r\n",
        "    while (self.aStack.pylist):\r\n",
        "      temp = self.aStack.pop()\r\n",
        "      self.bStack.push(temp)\r\n",
        "\r\n",
        "mq = MyQueue()\r\n",
        "mq.add(1)\r\n",
        "mq.add(2)\r\n",
        "mq.add(3)\r\n",
        "\r\n",
        "print(mq.aStack.pylist)\r\n",
        "mq.shiftStack()\r\n",
        "print(mq.bStack.pylist)\r\n"
      ],
      "execution_count": null,
      "outputs": [
        {
          "output_type": "stream",
          "text": [
            "[1, 2, 3]\n",
            "[3, 2, 1]\n"
          ],
          "name": "stdout"
        }
      ]
    },
    {
      "cell_type": "markdown",
      "metadata": {
        "id": "2YUjtqDn1e5S"
      },
      "source": [
        "## Q 3.5 Sort Stack\r\n",
        "\r\n",
        "stack의 위로 갈 수록 작도록 sort하는 함수이다.\r\n",
        "\r\n",
        "책에서 단 하나의 추가 stack만 사용가능하다고 조건을 주었기 때문에 따르도록 하겠다.\r\n",
        "\r\n",
        "Insertion Sort로 알려진 방식을 적용해보도록 하자.\r\n",
        "\r\n",
        "조건 때문에 까다로운데, 아래 상황을 가정해보자.\r\n",
        "\r\n",
        "stack2는 이미 top을 갈 수록 크도록 sort되어있는 stack이다.\r\n",
        "\r\n",
        "이 때 새로운 element를 stack2에 적절한 위치에 넣을려면 어떻게 해야 하는가?\r\n",
        "\r\n",
        "top부터 차례대로 element보다 작은 원소가 나올 때까지 pop한 다음에 그 자리에 push하고, 다시 그 위로 기존 원소를 push하면 된다.\r\n",
        "\r\n",
        "이렇게 계속 반복하면 주어진 unsorted stack을 sorted stack 안에 넣을 수 있다.\r\n",
        "\r\n",
        "단지 이 때 base case를 위해서 첫 sorted list를 single element로 stack의 제일 위 원소를 옮기므로서 만들어주고, 이후에 적절한 위치를 찾기 위해서 stack2에서 pop할 때 pop하는 element들을 input stack이 받아주면 된다."
      ]
    },
    {
      "cell_type": "code",
      "metadata": {
        "id": "sM8doD_j13ss"
      },
      "source": [
        "# Q 3.5 Sort Stack\r\n",
        "def sortStack(stack):\r\n",
        "  stack2 = Stack()\r\n",
        "  tmp = stack.pop()\r\n",
        "  stack2.push(tmp)\r\n",
        "  while not stack.isEmpty():\r\n",
        "    tmp = stack.pop()\r\n",
        "    num = 0\r\n",
        "    while not stack2.isEmpty():\r\n",
        "      if tmp < stack2.peek():\r\n",
        "        stack.push(stack2.pop())\r\n",
        "        num += 1\r\n",
        "      else:\r\n",
        "        break\r\n",
        "    stack2.push(tmp)\r\n",
        "    for i in range(num):\r\n",
        "      stack2.push(stack.pop())\r\n",
        "  \r\n",
        "  while not stack2.isEmpty():\r\n",
        "    stack.push(stack2.pop())\r\n",
        "  return stack"
      ],
      "execution_count": null,
      "outputs": []
    },
    {
      "cell_type": "code",
      "metadata": {
        "id": "kQiuKsg614vB"
      },
      "source": [
        "stack = Stack()\r\n",
        "stack.push(2)\r\n",
        "stack.push(3)\r\n",
        "stack.push(1)\r\n",
        "stack.push(5)\r\n",
        "stack.push(4)\r\n",
        "stack.print()\r\n",
        "sortStack(stack)\r\n",
        "stack.print()\r\n"
      ],
      "execution_count": null,
      "outputs": []
    },
    {
      "cell_type": "markdown",
      "metadata": {
        "id": "Qg-Vh-Sbh2wh"
      },
      "source": [
        "## Q 3.6 Animal Shelter\r\n",
        "\r\n",
        "Animal이라는 클래스는 해당 동물의 이름과 종을 가지고 있는 클래스다.\r\n",
        "이 클래스들이 linked list에 input된 순서대로 dequeueAny()를 구현할 수 있고,\r\n",
        "Animal 클래스 안에 있는 종 data를 확인하면 dequeueDog()와 dequeueCat()도 각각 구현할 수 있었다."
      ]
    },
    {
      "cell_type": "code",
      "metadata": {
        "id": "P1HFVQ9zkv0A"
      },
      "source": [
        "# 3.6 Animal Shelter\r\n",
        "\r\n",
        "class Node:\r\n",
        "  \r\n",
        "  def __init__(self, item):\r\n",
        "    self.item = item\r\n",
        "    self.next = None\r\n",
        "\r\n",
        "class LinkedList:\r\n",
        "  \r\n",
        "  def __init__(self):\r\n",
        "    self.head = None\r\n",
        "\r\n",
        "  def append(self, item):\r\n",
        "    if (not self.head):\r\n",
        "      self.head = Node(item)\r\n",
        "    else: \r\n",
        "      last = self.head\r\n",
        "      while last.next:\r\n",
        "        last = last.next\r\n",
        "      last.next = Node(item)\r\n",
        "\r\n",
        "  def toString(self):\r\n",
        "    result = []\r\n",
        "    temp = self.head\r\n",
        "    while temp:\r\n",
        "      result.append(temp.item)\r\n",
        "      temp = temp.next\r\n",
        "    print(result)\r\n",
        "\r\n",
        "\r\n",
        "\r\n",
        "class Animal:\r\n",
        "  \r\n",
        "  def __init__(self, name, animalType):\r\n",
        "    self.name = name\r\n",
        "    self.animalType = animalType\r\n",
        "\r\n",
        "\r\n",
        "class AnimalShelter:\r\n",
        "\r\n",
        "  def __init__(self):\r\n",
        "    self.line = LinkedList()\r\n",
        "\r\n",
        "  def enqueue(self, animal):\r\n",
        "    self.line.append(animal)\r\n",
        "\r\n",
        "  def dequeueAny(self):\r\n",
        "    result = self.line.head\r\n",
        "    self.line.head = self.line.head.next\r\n",
        "    return result.item.animalType\r\n",
        "\r\n",
        "  def dequeueDog(self):\r\n",
        "    dog = self.line.head\r\n",
        "    while not dog.item.animalType == \"dog\":\r\n",
        "      dog = dog.next\r\n",
        "    result = dog.item\r\n",
        "    dog.item = dog.next.item\r\n",
        "    dog.next = dog.next.next\r\n",
        "\r\n",
        "    return result \r\n",
        "\r\n",
        "  def dequeueCat(self):\r\n",
        "    cat = self.line.head\r\n",
        "    while not cat.item.animalType == \"cat\":\r\n",
        "      cat = cat.next\r\n",
        "    result = cat.item\r\n",
        "    cat.item = cat.next.item\r\n",
        "    cat.next = cat.next.next\r\n",
        "\r\n",
        "    return result "
      ],
      "execution_count": null,
      "outputs": []
    }
  ]
}