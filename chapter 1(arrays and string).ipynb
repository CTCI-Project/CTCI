{
 "cells": [
  {
   "cell_type": "code",
   "execution_count": 2,
   "metadata": {},
   "outputs": [],
   "source": [
    "import numpy as np"
   ]
  },
  {
   "cell_type": "code",
   "execution_count": 2,
   "metadata": {},
   "outputs": [
    {
     "data": {
      "text/plain": [
       "'cat0123456789'"
      ]
     },
     "execution_count": 2,
     "metadata": {},
     "output_type": "execute_result"
    }
   ],
   "source": [
    "c = \"cat\"\n",
    "for i in range(10):\n",
    "    c = c + str(i)\n",
    "c"
   ]
  },
  {
   "cell_type": "code",
   "execution_count": 3,
   "metadata": {},
   "outputs": [
    {
     "data": {
      "text/plain": [
       "'cat0123456789'"
      ]
     },
     "execution_count": 3,
     "metadata": {},
     "output_type": "execute_result"
    }
   ],
   "source": [
    "charlist = [\"cat\"]\n",
    "for i in range(10):\n",
    "    charlist.append(str(i))\n",
    "''.join(charlist)"
   ]
  },
  {
   "cell_type": "markdown",
   "metadata": {},
   "source": [
    "# Q 1.2 Check Permutation\n",
    "\n",
    "check_permutation은 두 string이 서로 permutation(순서만 다른 관계)인지 확인하는 함수이다.\n",
    "\n",
    "아래처럼 두 string을 sort한다면 순서가 다르더라도 동일한 list가 나오게 된다.\n",
    "\n",
    "python에서 sorted()를 사용하면 string, list 등 iterable한 구조들을 sort해주므로\n",
    "sorted()를 이용해서 확인할 수 있다.\n",
    "\n",
    "time complexity:\n",
    "    sorting: O(nlogn)\n",
    "    equality check: O(n)\n",
    "    sorting x2 + equality check x1\n",
    "    ==> O(nlogn)"
   ]
  },
  {
   "cell_type": "code",
   "execution_count": 1,
   "metadata": {},
   "outputs": [],
   "source": [
    "# Q 1.2 Check Permutation\n",
    "def check_permutation(s, t):\n",
    "    return sorted(s) == sorted(t)"
   ]
  },
  {
   "cell_type": "code",
   "execution_count": 3,
   "metadata": {},
   "outputs": [
    {
     "name": "stdout",
     "output_type": "stream",
     "text": [
      "True\n",
      "False\n"
     ]
    }
   ],
   "source": [
    "print(check_permutation(\"dog\", \"god\"))\n",
    "print(check_permutation(\"dog\", \"gof\"))"
   ]
  },
  {
   "cell_type": "markdown",
   "metadata": {},
   "source": [
    "# Q 1.3 URLify\n",
    "\n",
    "URLify는 input string에서 모든 blank space를 '%20'으로 대체하는 함수이다.\n",
    "\n",
    "blank space를 detect하면 앞 뒤로 string을 slice해서 빈칸 대신 '%20'을 넣고 concat하면 된다.\n",
    "\n",
    "ex)\n",
    "if s[i] == \" \":\n",
    "            s = s[:i] + \"%20\" + s[i+1:]\n",
    "\n",
    "하지만 위처럼 할 경우 blank를 detect 할 때마다 전체 string을 copy 해야 된다.\n",
    "이는 blank 갯수 m, string length n일 때 O(mn) time이 걸린다.\n",
    "\n",
    "따라서 아래처럼 character array 같은 느낌으로 array를 만들어서 character 별로 1번씩만 copy되게 할 경우,\n",
    "\n",
    "time complexity:\n",
    "    blank 갯수 m, string length n일 때\n",
    "    while 문이 반복되면서 returnString array에 append 되는 횟수는 n번, \n",
    "    character copy되는 갯수로 따지면 O(2m+n)이므로 \n",
    "    O(n) time안에 가능하다."
   ]
  },
  {
   "cell_type": "code",
   "execution_count": 4,
   "metadata": {},
   "outputs": [],
   "source": [
    "#3 URLify\n",
    "def URLify(s):\n",
    "    i = 0\n",
    "    returnString = []\n",
    "    is_blank = False\n",
    "    while i < len(s):\n",
    "        if s[i] == ' ':\n",
    "            is_blank = True\n",
    "        else:\n",
    "            if is_blank:\n",
    "                returnString.append(\"%20\")\n",
    "                is_blank = False\n",
    "            returnString.append(s[i])\n",
    "        i += 1\n",
    "    return ''.join(returnString)"
   ]
  },
  {
   "cell_type": "code",
   "execution_count": 5,
   "metadata": {},
   "outputs": [
    {
     "data": {
      "text/plain": [
       "'Mr%20John%20Smith'"
      ]
     },
     "execution_count": 5,
     "metadata": {},
     "output_type": "execute_result"
    }
   ],
   "source": [
    "URLify(\"Mr John  Smith  \")"
   ]
  },
  {
   "cell_type": "markdown",
   "metadata": {},
   "source": [
    "# Q 1.4 Palindrom Permutation\n",
    "\n",
    "Palindrom Permutation이란 순서를 바꿔서(Permutation) Palindrom(대칭)을 만들 수 있는지 확인하는 함수이다.\n",
    "이 때 blank는 영향을 미치지 않는다.\n",
    "또한 uppercase, lowercase는 차이가 없다.\n",
    "\n",
    "순서가 상관없으므로 결과적으로 character 별로 등장 횟수가 짝수이거나 홀수가 하나만 있으면 된다.\n",
    "aabbaa ==> a 4번, b 2번, aabcbaa ==> a 4번, b 2번, c 1번\n",
    "\n",
    "\n",
    "먼저 모든 character를 lowercase로 바꾼다.\n",
    "\n",
    "몇 번씩 등장하는지 frequency를 dictionary 구조에 저장한다.\n",
    "\n",
    "이후 frequency가 조건 (모두 짝수 또는 최대 1개 홀수)를 만족하는지 확인한다.\n",
    "\n",
    "time complexity:\n",
    "    n: string length, m: character 종류\n",
    "    characters_frequency: O(n)\n",
    "    frequency 조건 확인: O(m)\n",
    "    ==> O(m+n) = O(n) (n>m 이므로)"
   ]
  },
  {
   "cell_type": "code",
   "execution_count": 6,
   "metadata": {},
   "outputs": [],
   "source": [
    "#4 Palindrome Permutation\n",
    "def check_palindrom_permutation(s):\n",
    "    lower_str = s.lower()\n",
    "\n",
    "    characters_frequency = {}\n",
    "\n",
    "    for character in lower_str:\n",
    "        if character in characters_frequency.keys():\n",
    "            characters_frequency[character] += 1\n",
    "        else:\n",
    "            if character != ' ':\n",
    "                characters_frequency[character] = 1\n",
    "    \n",
    "    odd_num = 0\n",
    "    for count in characters_frequency.values():\n",
    "        if count%2 != 0:\n",
    "            odd_num += 1\n",
    "\n",
    "        if odd_num > 1:\n",
    "            return False\n",
    "    \n",
    "    return True"
   ]
  },
  {
   "cell_type": "code",
   "execution_count": 7,
   "metadata": {},
   "outputs": [
    {
     "data": {
      "text/plain": [
       "True"
      ]
     },
     "execution_count": 7,
     "metadata": {},
     "output_type": "execute_result"
    }
   ],
   "source": [
    "check_palindrom_permutation(\"Tact Coa\")"
   ]
  },
  {
   "cell_type": "markdown",
   "metadata": {},
   "source": [
    "# Q 1.5 One Way\n",
    "\n",
    "One Way 는 input string s에서 single character를 'replace', 'add', 'delete'해서 t가 될 수 있는지 확인하는 함수이다.\n",
    "\n",
    "length를 비교해서 possible한 상황을 찾는 것이 중요하다.\n",
    "\n",
    "1. length가 동일할 경우\n",
    "    replace\n",
    "    서로 다른 character가 최대 한개만 있을 경우 가능하다.\n",
    "\n",
    "2. len(s) < len(t)-1\n",
    "    add\n",
    "    두 개 이상 순서를 따라가면서 다르지 않은지 확인하면 된다.\n",
    "    \n",
    "3. 2번과 반대상황이다.\n",
    "\n",
    "4. length가 조건에 부합하지 않을 경우 확인할 필요없이 불가능하다.\n",
    "\n",
    "time complexity:\n",
    "    case 1 : O(n)\n",
    "    case 2 : O(n)\n",
    "    case 3 : O(n)\n",
    "    ==> O(n)"
   ]
  },
  {
   "cell_type": "code",
   "execution_count": 8,
   "metadata": {},
   "outputs": [],
   "source": [
    "#5 One Way\n",
    "def check_one_way(s, t):\n",
    "    # needs replace for s to be t\n",
    "    if len(s) == len(t):\n",
    "        diff_char_num = 0\n",
    "        for i in range(len(s)):\n",
    "            if s[i] != t[i]:\n",
    "                diff_char_num += 1\n",
    "            if diff_char_num > 1:\n",
    "                return False\n",
    "    \n",
    "    # needs add for s to be t\n",
    "    elif len(s) == len(t)-1:\n",
    "        i = 0\n",
    "        j = 0\n",
    "        while i < len(s) and j < len(t):\n",
    "            if s[i] != t[j]:\n",
    "                j += 1\n",
    "            i += 1\n",
    "            j += 1\n",
    "            if j-i > 1:\n",
    "                return False\n",
    "    \n",
    "    #needs delete for s to be t\n",
    "    elif len(s)-1 == len(t):\n",
    "        i = 0\n",
    "        j = 0\n",
    "        while i < len(s) and j < len(t):\n",
    "            if s[i] != t[j]:\n",
    "                i += 1\n",
    "            i += 1\n",
    "            j += 1\n",
    "            if i-j > 1:\n",
    "                return False\n",
    "    \n",
    "    else:\n",
    "        return False\n",
    "\n",
    "    return True"
   ]
  },
  {
   "cell_type": "code",
   "execution_count": 9,
   "metadata": {},
   "outputs": [
    {
     "data": {
      "text/plain": [
       "False"
      ]
     },
     "execution_count": 9,
     "metadata": {},
     "output_type": "execute_result"
    }
   ],
   "source": [
    "check_one_way(\"pale\", \"bake\")"
   ]
  },
  {
   "cell_type": "markdown",
   "metadata": {},
   "source": [
    "# Q 1.6 String Compression\n",
    "\n",
    "간단한 구조이고 직관적이므로 설명은 생략하겠다.\n",
    "\n",
    "코드에서 주목할 점은 repeat되는 string concat을 피하고자 character array로 만든 후 한 번에 join해\n",
    "time complexity를 O(n)으로 최적화시켰다."
   ]
  },
  {
   "cell_type": "code",
   "execution_count": 10,
   "metadata": {},
   "outputs": [],
   "source": [
    "# 6 String Compression\n",
    "def string_compression(s):\n",
    "    compressed_str = [s[0]]\n",
    "    repeated_num = 1\n",
    "    for c in s[1:]:\n",
    "        if c == compressed_str[-1]:\n",
    "           repeated_num += 1\n",
    "        else:\n",
    "            compressed_str.append(str(repeated_num))\n",
    "            repeated_num = 1\n",
    "            compressed_str.append(c)\n",
    "    compressed_str.append(str(repeated_num))\n",
    "    return ''.join(compressed_str)"
   ]
  },
  {
   "cell_type": "code",
   "execution_count": 11,
   "metadata": {},
   "outputs": [
    {
     "data": {
      "text/plain": [
       "'a2b1c5a3'"
      ]
     },
     "execution_count": 11,
     "metadata": {},
     "output_type": "execute_result"
    }
   ],
   "source": [
    "string_compression(\"aabcccccaaa\")"
   ]
  },
  {
   "cell_type": "markdown",
   "metadata": {},
   "source": [
    "# Q 1.7 Rotate Matrix\n",
    "\n",
    "python으로 진행 중이므로 구현하지 않았다."
   ]
  },
  {
   "cell_type": "markdown",
   "metadata": {},
   "source": [
    "# Q 1.8 Zero Matrix\n",
    "\n",
    "in place로 matrix가 0인 element를 가질 때 그 element의 row와 column을 모두 0으로 만든다.\n",
    "\n",
    "python으로 진행하는만큼 matrix 문제에서는 numpy를 사용해보았다.\n",
    "\n",
    "먼저 zero들의 위치를 파악해 저장한다.\n",
    "\n",
    "그 다음 위치에 맞는 row와 column을 모두 0으로 바꾼다.\n",
    "\n",
    "time complexity:\n",
    "    m: zero 갯수, n: element 수, a: row length, b: col length\n",
    "    zero 위치 파악: O(n)\n",
    "    zero 위치 저장: O(m)\n",
    "    zero column, row 교체: O(ma + mb)\n",
    "    ==> O(n + m + m(a+b)) = O(n + m(a+b))"
   ]
  },
  {
   "cell_type": "code",
   "execution_count": 115,
   "metadata": {},
   "outputs": [],
   "source": [
    "# 8 Zero Matrix\n",
    "def zero_matrix(matrix):\n",
    "    row, col = matrix.shape\n",
    "    zero_row = {}\n",
    "    zero_row = set()\n",
    "    zero_col = {}\n",
    "    zero_col = set()\n",
    "\n",
    "    for i in range(row):\n",
    "        for j in range(col):\n",
    "            if matrix[i,j] == 0:\n",
    "                zero_row.add(i)\n",
    "                zero_col.add(j)\n",
    "\n",
    "    for r in zero_row:\n",
    "        matrix[r,:] = np.zeros(row)\n",
    "\n",
    "    for c in zero_col:\n",
    "        matrix[:,c] = np.zeros(col)\n",
    "    return matrix"
   ]
  },
  {
   "cell_type": "code",
   "execution_count": 118,
   "metadata": {},
   "outputs": [
    {
     "data": {
      "text/plain": [
       "array([[0, 2, 0],\n",
       "       [0, 5, 0],\n",
       "       [0, 0, 0]])"
      ]
     },
     "execution_count": 118,
     "metadata": {},
     "output_type": "execute_result"
    }
   ],
   "source": [
    "matrix = np.array([\n",
    "    [1,2,3],\n",
    "    [4,5,6],\n",
    "    [0,3,0]\n",
    "    ])\n",
    "zero_matrix(matrix)"
   ]
  },
  {
   "cell_type": "markdown",
   "metadata": {},
   "source": [
    "# Q 1.9 String Rotation\n",
    "\n",
    "string rotation은 string이 circular한 형태로 시작과 끝이 맞물려 있을 때 동일한지 확인하는 과정이다.\n",
    "\n",
    "사실 이 문제를 처음 봤을 때는 무작정 비교해보고 아니면 다음 character부터 시작하는 naive한 approach O(n^2)만 생각났다.\n",
    "\n",
    "하지만 이 문제는 쉽게 해결하는 key가 있다.\n",
    "\n",
    "s와 t라는 string이 당연히 length는 우선 같다는 전제 하에 살펴보자.\n",
    "만약 string rotation 관계라면 \n",
    "string s = x + y\n",
    "string t = y + x\n",
    "를 만족하는 두 substring x,y가 존재한다.\n",
    "\n",
    "이때 ss = s+s = x+y+x+y인데 살펴보면 가운데 y+x, 즉 t를 substring으로 포함하는 것을 확인할 수 있다.\n",
    "\n",
    "\n",
    "\n",
    "그러면 string rotation이면 t is substring of ss는 만족하는 것을 알았지만 과연 반대도 참일까?\n",
    "\n",
    "ss의 length len(s)인 substring은 len(s)가지 존재한다.\n",
    "\n",
    "첫번째 s의 뒷부분부터 두 번째 s의 앞부분을 element로 가지는 substring 들이다.\n",
    "이 부분을 x,y로 나누면 s = x+y를 만족하는 상태이다.\n",
    "이때 substring은 y+x 상태인데 이는 바로 rotation 관계인 것과 동일한 상태이다.\n",
    "결국 t = y+x이므로 string rotation 관계이다.\n",
    "\n",
    "#### 코드에서 한가지 알아두면 좋을 점은, 모든 iterable한 구조는 'in'을 써서 substring 같이 subset 형태를 찾을 수 있다는 것이다.\n",
    "\n",
    "time complexity:\n",
    "    ss 생성: O(2n) = O(n) (s copy 두번)\n",
    "    substring check: O(n)\n",
    "    ==> O(n)"
   ]
  },
  {
   "cell_type": "code",
   "execution_count": 119,
   "metadata": {},
   "outputs": [],
   "source": [
    "# 9 String Rotation\n",
    "def check_string_rotation(s, t):\n",
    "    if len(s) != len(t):\n",
    "        return False\n",
    "    \n",
    "    ss = s + s\n",
    "    #python 형태의 substring check\n",
    "    if t in ss:\n",
    "        return True\n",
    "    else:\n",
    "        return False"
   ]
  },
  {
   "cell_type": "code",
   "execution_count": 122,
   "metadata": {},
   "outputs": [
    {
     "data": {
      "text/plain": [
       "True"
      ]
     },
     "execution_count": 122,
     "metadata": {},
     "output_type": "execute_result"
    }
   ],
   "source": [
    "check_string_rotation(\"waterbottle\", \"erbottlewat\")"
   ]
  },
  {
   "cell_type": "code",
   "execution_count": null,
   "metadata": {},
   "outputs": [],
   "source": []
  }
 ],
 "metadata": {
  "kernelspec": {
   "display_name": "Python 3",
   "language": "python",
   "name": "python3"
  },
  "language_info": {
   "codemirror_mode": {
    "name": "ipython",
    "version": 3
   },
   "file_extension": ".py",
   "mimetype": "text/x-python",
   "name": "python",
   "nbconvert_exporter": "python",
   "pygments_lexer": "ipython3",
   "version": "3.9.1"
  }
 },
 "nbformat": 4,
 "nbformat_minor": 4
}
