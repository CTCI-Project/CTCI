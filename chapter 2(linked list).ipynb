{
  "nbformat": 4,
  "nbformat_minor": 0,
  "metadata": {
    "colab": {
      "name": "Untitled14.ipynb",
      "provenance": [],
      "collapsed_sections": []
    },
    "kernelspec": {
      "name": "python3",
      "display_name": "Python 3"
    }
  },
  "cells": [
    {
      "cell_type": "markdown",
      "metadata": {
        "id": "J5q75fkERii2"
      },
      "source": [
        "## Linked List란? \r\n",
        "일반적인 array와 달리 node들의 sequence로 이루어져 있는 data structure 이다.\r\n"
      ]
    },
    {
      "cell_type": "code",
      "metadata": {
        "id": "Ut3awdQguCwy"
      },
      "source": [
        "# Node class \r\n",
        "class Node: \r\n",
        "    def __init__(self, data): \r\n",
        "        self.data = data\r\n",
        "        self.next = None\r\n",
        "   \r\n",
        "# Linked List class \r\n",
        "class LinkedList:\r\n",
        "    def __init__(self, dataList=[]):\r\n",
        "      if len(dataList) == 0:\r\n",
        "        self.head = None\r\n",
        "        self.last = None\r\n",
        "        return\r\n",
        "      self.head = Node(dataList[0])\r\n",
        "      node = self.head\r\n",
        "      for data in dataList[1:]:\r\n",
        "        node.next = Node(data)\r\n",
        "        node = node.next\r\n",
        "      self.last = node\r\n",
        "    \r\n",
        "    def get_node(self,index):\r\n",
        "      node = self.head\r\n",
        "      for i in range(index):\r\n",
        "        node = node.next\r\n",
        "      return node\r\n",
        "        \r\n",
        "    def printList(self): \r\n",
        "        temp = self.head \r\n",
        "        while (temp): \r\n",
        "            print (temp.data) \r\n",
        "            temp = temp.next\r\n",
        "    \r\n",
        "    def append(self, obj, by_node = False):\r\n",
        "      if by_node:\r\n",
        "        newNode = obj\r\n",
        "      else:\r\n",
        "        newNode = Node(obj)\r\n",
        "\r\n",
        "      if self.last != None:\r\n",
        "        self.last.next = newNode\r\n",
        "        self.last = newNode\r\n",
        "      else:\r\n",
        "        self.head = newNode\r\n",
        "        self.last = newNode\r\n",
        "    \r\n",
        "    def concat(self, llist):\r\n",
        "      self.last.next = llist.head\r\n",
        "      self.last = llist.last\r\n",
        "    \r\n",
        "    def length(self):\r\n",
        "      node = self.head\r\n",
        "      len = 0\r\n",
        "      while node:\r\n",
        "        node = node.next\r\n",
        "        len += 1\r\n",
        "      return len"
      ],
      "execution_count": 6,
      "outputs": []
    },
    {
      "cell_type": "markdown",
      "metadata": {
        "id": "uInLqcO4R0vD"
      },
      "source": [
        "## Runner Technique\r\n",
        "Runner Technique은 fast, slow pointer를 포함한 multiple pointer를 이용해 linked list에서 여러 문제를 해결하는데 사용된다.\r\n",
        "\r\n",
        "아래는 runner technique을 이용해 lengthㄹ르 모르는 linked list의 중간 node를 찾아내는 함수를 구현했다."
      ]
    },
    {
      "cell_type": "code",
      "metadata": {
        "id": "1tnoFUM6W2pV"
      },
      "source": [
        "#Find middle node\r\n",
        "def find_middle_node(llist):\r\n",
        "    p1 = llist.head\r\n",
        "    p2 = llist.head\r\n",
        "    \r\n",
        "    while p1 != None and p1.next != None:\r\n",
        "        p1 = p1.next.next  #fast pointer p1\r\n",
        "        p2 = p2.next\r\n",
        "    \r\n",
        "    return p2"
      ],
      "execution_count": 1,
      "outputs": []
    },
    {
      "cell_type": "markdown",
      "metadata": {
        "id": "Fwd-U8lTXec7"
      },
      "source": [
        "## Q 2.1 Remove Duplicates\r\n",
        "\r\n",
        "중복해서 나타나는 element들을 지우는 함수이다.\r\n",
        "중복을 확인하기 위해서 element가 나타나면 저장하는 list를 별도로 생성한다.\r\n",
        "\r\n",
        "이후 list를 iterate하면서 나타났었던 적이 있는 element를 만나면 node를 delete한다.\r\n",
        "이 때 이전 node를 알아야 이후 node에 연결을 할 수 있으므로 이전 노드를 point하는 pointer 또한 유지한다.\r\n",
        "\r\n",
        "python이므로 별도의 memory release 없이 진행한다."
      ]
    },
    {
      "cell_type": "code",
      "metadata": {
        "id": "vZ8iot3kgWCT"
      },
      "source": [
        "# Q 2.1 Remove Duplicates\r\n",
        "def remove_duplicates(llist):\r\n",
        "  charList = [llist.head.data]\r\n",
        "  node_before = llist.head\r\n",
        "  node = llist.head.next\r\n",
        "  while node != None:\r\n",
        "    if node.data in charList:\r\n",
        "      node_before.next = node.next\r\n",
        "    else:\r\n",
        "      charList.append(node.data)\r\n",
        "      node_before = node_before.next\r\n",
        "    node = node.next"
      ],
      "execution_count": null,
      "outputs": []
    },
    {
      "cell_type": "code",
      "metadata": {
        "id": "uh8MYlUpwLy5"
      },
      "source": [
        "llist = LinkedList(['F','O','L','L','O','W',' ','U','P'])"
      ],
      "execution_count": null,
      "outputs": []
    },
    {
      "cell_type": "code",
      "metadata": {
        "colab": {
          "base_uri": "https://localhost:8080/"
        },
        "id": "TtEB9Ps3wqCP",
        "outputId": "5628dac0-2ee2-4d55-d485-cd4821d312d6"
      },
      "source": [
        "llist.printList()"
      ],
      "execution_count": null,
      "outputs": [
        {
          "output_type": "stream",
          "text": [
            "F\n",
            "O\n",
            "L\n",
            "L\n",
            "O\n",
            "W\n",
            " \n",
            "U\n",
            "P\n"
          ],
          "name": "stdout"
        }
      ]
    },
    {
      "cell_type": "code",
      "metadata": {
        "id": "TCrGi3_AwrPN"
      },
      "source": [
        "remove_duplicates(llist)"
      ],
      "execution_count": null,
      "outputs": []
    },
    {
      "cell_type": "markdown",
      "metadata": {
        "id": "kqhBXUp_eHU8"
      },
      "source": [
        "## Q 2.2 Return Kth to Last\r\n",
        "\r\n",
        "뒤에서 Kth element를 지워야 한다.\r\n",
        "singly linked list이므로 뒤에서부터 iterate 할 수 없다.\r\n",
        "따라서 시작부터 K 만큼 차이나는 pointer 2개를 생성해 iterate해서 앞에 pointer가 끝에 다다랐을 때 뒤 pointer가 point하는 node가 뒤에서 Kth node 이다."
      ]
    },
    {
      "cell_type": "code",
      "metadata": {
        "id": "gAKJ6_1bxLT_"
      },
      "source": [
        "# Q 2.2 Return Kth to Last(Singly Linked List)\r\n",
        "def return_kth_from_last(llist, k):\r\n",
        "  p1 = llist.head\r\n",
        "  p2 = llist.head\r\n",
        "  for i in range(k):\r\n",
        "    p1 = p1.next\r\n",
        "  \r\n",
        "  while p1 != None:\r\n",
        "    p1 = p1.next\r\n",
        "    p2 = p2.next\r\n",
        "\r\n",
        "  return p2.data"
      ],
      "execution_count": null,
      "outputs": []
    },
    {
      "cell_type": "code",
      "metadata": {
        "colab": {
          "base_uri": "https://localhost:8080/",
          "height": 34
        },
        "id": "E2WuTiLQyFph",
        "outputId": "884f5b0f-f417-4086-e83f-e79797de4a3d"
      },
      "source": [
        "return_kth_from_last(llist, 4)"
      ],
      "execution_count": null,
      "outputs": [
        {
          "output_type": "execute_result",
          "data": {
            "application/vnd.google.colaboratory.intrinsic+json": {
              "type": "string"
            },
            "text/plain": [
              "'W'"
            ]
          },
          "metadata": {
            "tags": []
          },
          "execution_count": 25
        }
      ]
    },
    {
      "cell_type": "markdown",
      "metadata": {
        "id": "RCVcqk04ej1D"
      },
      "source": [
        "## Q 2.3 Delete Middle Node\r\n",
        "\r\n",
        "정 가운데 node를 의미하는 것이 아닌, 시작과 끝을 제외한 사이에 위치한 node를 delete하는 함수이다.\r\n",
        "\r\n",
        "여기서 주목할 점은, node만 주어졌을 때 이전 node를 확인할 수 없다는 것이다.\r\n",
        "그러므로 pointer를 연결해 줄 수 없다.\r\n",
        "\r\n",
        "이 때문에 다음 node의 data를 삭제하고자 하는 node에 복사하고, 그 다음 node를 삭제하면서 pointer는 현재 node와 다음 다음 node를 연결한다.\r\n",
        "\r\n",
        "이 방법은 삭제하고자 하는 node를 삭제한다기 보다는 삭제하고자 하는 data를 삭제한다는 표현이 맞다고 본다."
      ]
    },
    {
      "cell_type": "code",
      "metadata": {
        "id": "7INkmgYGyPQD"
      },
      "source": [
        "# Q 2.3 Delete Middle Node (Singly Linked List)\r\n",
        "def delete_node(node):\r\n",
        "  node.data = node.next.data\r\n",
        "  node.next = node.next.next"
      ],
      "execution_count": null,
      "outputs": []
    },
    {
      "cell_type": "code",
      "metadata": {
        "colab": {
          "base_uri": "https://localhost:8080/"
        },
        "id": "ORYkKi_11cv4",
        "outputId": "07f6546b-037a-4e87-bebe-9372adbf3aea"
      },
      "source": [
        "llist.printList()\r\n",
        "delete_node(llist.head.next.next.next)\r\n",
        "llist.printList()"
      ],
      "execution_count": null,
      "outputs": [
        {
          "output_type": "stream",
          "text": [
            "F\n",
            "O\n",
            "L\n",
            "W\n",
            " \n",
            "U\n",
            "P\n",
            "F\n",
            "O\n",
            "L\n",
            " \n",
            "U\n",
            "P\n"
          ],
          "name": "stdout"
        }
      ]
    },
    {
      "cell_type": "markdown",
      "metadata": {
        "id": "TchbaHryfnZQ"
      },
      "source": [
        "## Q 2.4 Partition\r\n",
        "\r\n",
        "주어진 partition value 보다 작으면 왼쪽, 같거나 크면 오른쪽 partition에 위치하도록 분류하는 함수이다.\r\n",
        "\r\n",
        "right partition을 linked list로 생성한다.\r\n",
        "\r\n",
        "이후 list를 iterate하면서 같거나 크면 right partition에 저장하면서 기존 list에서 삭제한다.\r\n",
        "\r\n",
        "이렇게 전체 element에 대해서 한다면 기존 linked list에는 left partition만 남게된다.\r\n",
        "\r\n",
        "이후 left partition의 마지막 원소에 right parition을 연결해주면 된다."
      ]
    },
    {
      "cell_type": "code",
      "metadata": {
        "id": "psU570Hm1q9h"
      },
      "source": [
        "# Q 2.4 Partition\r\n",
        "def partition(llist, partitionVal):\r\n",
        "  node = llist.head\r\n",
        "  right_partition = LinkedList()\r\n",
        "  while node != None:\r\n",
        "    if node.data >= partitionVal:\r\n",
        "      right_partition.append(node.data)\r\n",
        "      delete_node(node)\r\n",
        "    else:\r\n",
        "      node = node.next\r\n",
        "  llist.concat(right_partition)"
      ],
      "execution_count": null,
      "outputs": []
    },
    {
      "cell_type": "code",
      "metadata": {
        "colab": {
          "base_uri": "https://localhost:8080/"
        },
        "id": "QtwwurOz7E9z",
        "outputId": "acb7e0eb-45eb-4210-c41d-d73a970d4d2d"
      },
      "source": [
        "numList = LinkedList([3,5,8,5,10,2,1])\r\n",
        "partition(numList, 5)\r\n",
        "numList.printList()"
      ],
      "execution_count": null,
      "outputs": [
        {
          "output_type": "stream",
          "text": [
            "3\n",
            "2\n",
            "1\n",
            "5\n",
            "8\n",
            "5\n",
            "10\n"
          ],
          "name": "stdout"
        }
      ]
    },
    {
      "cell_type": "markdown",
      "metadata": {
        "id": "ItB6JGR5gZ52"
      },
      "source": [
        "## Q 2.5 Sum Lists\r\n",
        "\r\n",
        "reversely ordered digits in list\r\n",
        "\r\n",
        "만약 123을 표현하고 싶다면 list에 3->2->1로 되어 있다는 뜻이다.\r\n",
        "\r\n",
        "reversely ordered 되어있기 때문에 sum은 어렵지 않다.\r\n",
        "\r\n",
        "앞에서부터 순서대로 iterate하는 각 list의 두 pointer를 통해 digit sum을 해주면서 만약 1이 carry로 발생하면 다음 digit으로 넘겨주면 된다.\r\n",
        "\r\n",
        "list의 length가 달라, 같은 말로 자릿수가 다를 경우 아직 iterate이 끝나지 않은 list의 뒤만 고려하면 된다.\r\n",
        "이 때 carry가 1이 올라오는데 이 때문에 이 1이랑 더하면서 연산을 이어나가면 된다.\r\n"
      ]
    },
    {
      "cell_type": "code",
      "metadata": {
        "id": "ARdsK5U07Gd-"
      },
      "source": [
        "# Q 2.5 Sum Lists\r\n",
        "def sum_list(l1, l2):\r\n",
        "  p1 = l1.head\r\n",
        "  p2 = l2.head\r\n",
        "  sum = LinkedList()\r\n",
        "  carry = 0\r\n",
        "  while p1 and p2:\r\n",
        "    digit_sum = p1.data + p2.data + carry\r\n",
        "    if digit_sum > 9:\r\n",
        "      sum.append(digit_sum-10)\r\n",
        "      carry = 1\r\n",
        "    else:\r\n",
        "      sum.append(digit_sum)\r\n",
        "      carry = 0\r\n",
        "    p1 = p1.next\r\n",
        "    p2 = p2.next\r\n",
        "  \r\n",
        "  if p1:\r\n",
        "    while p2:\r\n",
        "      digit_sum = p2.data + carry\r\n",
        "      if digit_sum > 9:\r\n",
        "        sum.append(digit_sum-10)\r\n",
        "        carry = 1\r\n",
        "      else:\r\n",
        "        sum.append(digit_sum)\r\n",
        "        carry = 0\r\n",
        "      p2 = p2.next\r\n",
        "  \r\n",
        "  if p2:\r\n",
        "    while p1:\r\n",
        "      digit_sum = p1.data + carry\r\n",
        "      if digit_sum > 9:\r\n",
        "        sum.append(digit_sum-10)\r\n",
        "        carry = 1\r\n",
        "      else:\r\n",
        "        sum.append(digit_sum)\r\n",
        "        carry = 0\r\n",
        "      p1 = p1.next\r\n",
        "  return sum"
      ],
      "execution_count": null,
      "outputs": []
    },
    {
      "cell_type": "code",
      "metadata": {
        "colab": {
          "base_uri": "https://localhost:8080/"
        },
        "id": "So8ML_8pIbOu",
        "outputId": "1af743d0-cff2-48e2-d60d-2e3e34651816"
      },
      "source": [
        "num1 = LinkedList([7,1,6])\r\n",
        "num2 = LinkedList([5,9,2])\r\n",
        "sum_list(num1,num2).printList()"
      ],
      "execution_count": null,
      "outputs": [
        {
          "output_type": "stream",
          "text": [
            "2\n",
            "1\n",
            "9\n"
          ],
          "name": "stdout"
        }
      ]
    },
    {
      "cell_type": "markdown",
      "metadata": {
        "id": "1HaPDOShiSz8"
      },
      "source": [
        "## Q 2.6 Palindrome \r\n",
        "\r\n",
        "Palindrome이란 좌우 대칭을 의미한다.\r\n",
        "\r\n",
        "이 문제는 recursive하게 해결할 수 있어서 재밌다.\r\n",
        "\r\n",
        "palindrome을 쪼개서 생각해보면 좌우 character들이 같으면 된다.\r\n",
        "\r\n",
        "그러므로 좌우가 같고 & 좌우를 제외한 사이 string이 palindrome을 만족하면 palindrome하다.\r\n",
        "\r\n",
        "이를 recursive하게 해결하면 아래와 같다."
      ]
    },
    {
      "cell_type": "code",
      "metadata": {
        "id": "HFlayl7PIqB_"
      },
      "source": [
        "# Q 2.6 Palindrome\r\n",
        "def is_palindrome(llist):\r\n",
        "  res,_ = is_palindrome_recurse(llist.head, llist.length())\r\n",
        "  return res\r\n",
        "\r\n",
        "def is_palindrome_recurse(head, length):\r\n",
        "  if length == 0:\r\n",
        "    return True, None\r\n",
        "  \r\n",
        "  if length == 1:\r\n",
        "    return True, head\r\n",
        "  \r\n",
        "  if length == 2:\r\n",
        "    return head == head.next, head.next\r\n",
        "\r\n",
        "  res, last_node = is_palindrome_recurse(head.next, length-2)\r\n",
        "  return head.data ==  last_node.next.data and res, last_node.next"
      ],
      "execution_count": null,
      "outputs": []
    },
    {
      "cell_type": "code",
      "metadata": {
        "colab": {
          "base_uri": "https://localhost:8080/"
        },
        "id": "k7y49dldJrzk",
        "outputId": "deab2b23-1cc4-47ee-a038-2dd49c8dc4c9"
      },
      "source": [
        "pal_list = LinkedList(['I', 'S', 'A'])\r\n",
        "is_palindrome(pal_list)"
      ],
      "execution_count": null,
      "outputs": [
        {
          "output_type": "execute_result",
          "data": {
            "text/plain": [
              "False"
            ]
          },
          "metadata": {
            "tags": []
          },
          "execution_count": 14
        }
      ]
    },
    {
      "cell_type": "markdown",
      "metadata": {
        "id": "i4aO2Wj_lR-G"
      },
      "source": [
        "## Q 2.7 InterSection\r\n",
        "\r\n",
        "singly linked list에서는 intersection이 있다는 것과 last node가 같다는 것은 동치이다.\r\n",
        "\r\n",
        "따라서 intersection이 있는지는 마지막 node만 비교하므로서 알 수 있다.\r\n",
        "\r\n",
        "intersection의 위치는 어떻게 알 수 있을까?\r\n",
        "\r\n",
        "두 list의 length 차이만큼 차이나는 두 pointer를 각 list에서 만들고 iterate하면 동일한 시간에 intersection에 도착하므로 iterate하면서 같은 node를 point 한다면 그 곳이 intersection이다."
      ]
    },
    {
      "cell_type": "code",
      "metadata": {
        "id": "xQd8kqieKd1O"
      },
      "source": [
        "# Q 2.7 InterSection\r\n",
        "def check_intersection(llist1, llist2):\r\n",
        "  if llist1.last != llist2.last:\r\n",
        "    return False, None\r\n",
        "  \r\n",
        "  longer = llist1 if llist1.length() > llist2.length() else llist2\r\n",
        "  shorter = llist2 if llist1.length() > llist2.length() else llist1\r\n",
        "\r\n",
        "  node1 = longer.get_node((longer.length())-(shorter.length()))\r\n",
        "  node2 = shorter.head\r\n",
        "  while node1 != node2:\r\n",
        "    node1 = node1.next\r\n",
        "    node2 = node2.next\r\n",
        "  \r\n",
        "  return True, node1"
      ],
      "execution_count": null,
      "outputs": []
    },
    {
      "cell_type": "code",
      "metadata": {
        "colab": {
          "base_uri": "https://localhost:8080/"
        },
        "id": "CVz_c04hZUzw",
        "outputId": "d36fa36b-1e76-4cdd-ae26-e81fb5c73ecc"
      },
      "source": [
        "list1 = LinkedList([3, 1, 5, 9])\r\n",
        "list2 = LinkedList([4,6])\r\n",
        "list3 = LinkedList([7,2,1])\r\n",
        "list1.concat(list3)\r\n",
        "list2.concat(list3)\r\n",
        "res, node = check_intersection(list1, list2)\r\n",
        "print(res, node.data)"
      ],
      "execution_count": null,
      "outputs": [
        {
          "output_type": "stream",
          "text": [
            "True 7\n"
          ],
          "name": "stdout"
        }
      ]
    },
    {
      "cell_type": "markdown",
      "metadata": {
        "id": "NQx6YFlandLJ"
      },
      "source": [
        "## Q 2.8 Loop Detection\r\n",
        "\r\n",
        "이 문제가 사실 가장 재밌었다.\r\n",
        "\r\n",
        "그림으로 그리면서 이해가 좀 필요한 문제이다.\r\n",
        "\r\n",
        "Runner technique을 사용해서 fast, slow pointer를 속도 차이가 2배가 나도록 설정한다.\r\n",
        "\r\n",
        "loop이 있다는 전제하에, 두 pointer가 같은 위치를 point할 때는 loop 크기 만큼 fast pointer가 loop size의 배수 만큼 더 간 상태이다.\r\n",
        "\r\n",
        "이 상태에서 slow pointer를 head로 다시 옮겨놓고, iterate하면 같아지는 순간이 loop이 시작되는 순간이다.\r\n",
        "\r\n"
      ]
    },
    {
      "cell_type": "code",
      "metadata": {
        "id": "sX3mta5BZ5F0"
      },
      "source": [
        "# Q 2.8 Loop Detection\r\n",
        "def detect_loop(llist):\r\n",
        "  slow = llist.head\r\n",
        "  fast = llist.head\r\n",
        "\r\n",
        "  while True:\r\n",
        "    fast = fast.next.next\r\n",
        "    slow = slow.next\r\n",
        "    if fast == slow:\r\n",
        "      break\r\n",
        "  \r\n",
        "  slow = llist.head\r\n",
        "  while slow != fast:\r\n",
        "    fast = fast.next\r\n",
        "    slow = slow.next\r\n",
        "\r\n",
        "  return fast"
      ],
      "execution_count": null,
      "outputs": []
    },
    {
      "cell_type": "code",
      "metadata": {
        "colab": {
          "base_uri": "https://localhost:8080/",
          "height": 34
        },
        "id": "D8fpFkVzchBW",
        "outputId": "7c6d33e8-9656-4ad9-9ae7-125474df3c9e"
      },
      "source": [
        "list1 = LinkedList(['A', 'B', 'C', 'D', 'E'])\r\n",
        "list1.last.next = list1.get_node(2)\r\n",
        "list1.last = list1.last.next\r\n",
        "detect_loop(list1).data"
      ],
      "execution_count": null,
      "outputs": [
        {
          "output_type": "execute_result",
          "data": {
            "application/vnd.google.colaboratory.intrinsic+json": {
              "type": "string"
            },
            "text/plain": [
              "'C'"
            ]
          },
          "metadata": {
            "tags": []
          },
          "execution_count": 70
        }
      ]
    }
  ]
}