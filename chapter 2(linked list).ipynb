{
  "nbformat": 4,
  "nbformat_minor": 0,
  "metadata": {
    "colab": {
      "name": "Untitled14.ipynb",
      "provenance": [],
      "collapsed_sections": []
    },
    "kernelspec": {
      "name": "python3",
      "display_name": "Python 3"
    }
  },
  "cells": [
    {
      "cell_type": "code",
      "metadata": {
        "id": "Ut3awdQguCwy"
      },
      "source": [
        "# Node class \r\n",
        "class Node: \r\n",
        "    def __init__(self, data): \r\n",
        "        self.data = data\r\n",
        "        self.next = None\r\n",
        "   \r\n",
        "# Linked List class \r\n",
        "class LinkedList:\r\n",
        "    def __init__(self, dataList=[]):\r\n",
        "      if len(dataList) == 0:\r\n",
        "        self.head = None\r\n",
        "        self.last = None\r\n",
        "        return\r\n",
        "      self.head = Node(dataList[0])\r\n",
        "      node = self.head\r\n",
        "      for data in dataList[1:]:\r\n",
        "        node.next = Node(data)\r\n",
        "        node = node.next\r\n",
        "      self.last = node\r\n",
        "    \r\n",
        "    def get_node(self,index):\r\n",
        "      node = self.head\r\n",
        "      for i in range(index):\r\n",
        "        node = node.next\r\n",
        "      return node\r\n",
        "        \r\n",
        "    def printList(self): \r\n",
        "        temp = self.head \r\n",
        "        while (temp): \r\n",
        "            print (temp.data) \r\n",
        "            temp = temp.next\r\n",
        "    \r\n",
        "    def append(self, obj, by_node = False):\r\n",
        "      if by_node:\r\n",
        "        newNode = obj\r\n",
        "      else:\r\n",
        "        newNode = Node(obj)\r\n",
        "\r\n",
        "      if self.last != None:\r\n",
        "        self.last.next = newNode\r\n",
        "        self.last = newNode\r\n",
        "      else:\r\n",
        "        self.head = newNode\r\n",
        "        self.last = newNode\r\n",
        "    \r\n",
        "    def concat(self, llist):\r\n",
        "      self.last.next = llist.head\r\n",
        "      self.last = llist.last\r\n",
        "    \r\n",
        "    def length(self):\r\n",
        "      node = self.head\r\n",
        "      len = 0\r\n",
        "      while node:\r\n",
        "        node = node.next\r\n",
        "        len += 1\r\n",
        "      return len"
      ],
      "execution_count": null,
      "outputs": []
    },
    {
      "cell_type": "code",
      "metadata": {
        "id": "vZ8iot3kgWCT"
      },
      "source": [
        "# Q 2.1\r\n",
        "def remove_duplicates(llist):\r\n",
        "  charList = [llist.head.data]\r\n",
        "  node_before = llist.head\r\n",
        "  node = llist.head.next\r\n",
        "  while node != None:\r\n",
        "    if node.data in charList:\r\n",
        "      print(node.data)\r\n",
        "      node_before.next = node.next\r\n",
        "    else:\r\n",
        "      charList.append(node.data)\r\n",
        "      node_before = node_before.next\r\n",
        "    node = node.next"
      ],
      "execution_count": null,
      "outputs": []
    },
    {
      "cell_type": "code",
      "metadata": {
        "id": "uh8MYlUpwLy5"
      },
      "source": [
        "llist = LinkedList(['F','O','L','L','O','W',' ','U','P'])"
      ],
      "execution_count": null,
      "outputs": []
    },
    {
      "cell_type": "code",
      "metadata": {
        "colab": {
          "base_uri": "https://localhost:8080/"
        },
        "id": "TtEB9Ps3wqCP",
        "outputId": "5628dac0-2ee2-4d55-d485-cd4821d312d6"
      },
      "source": [
        "llist.printList()"
      ],
      "execution_count": null,
      "outputs": [
        {
          "output_type": "stream",
          "text": [
            "F\n",
            "O\n",
            "L\n",
            "L\n",
            "O\n",
            "W\n",
            " \n",
            "U\n",
            "P\n"
          ],
          "name": "stdout"
        }
      ]
    },
    {
      "cell_type": "code",
      "metadata": {
        "id": "TCrGi3_AwrPN"
      },
      "source": [
        "remove_duplicates(llist)"
      ],
      "execution_count": null,
      "outputs": []
    },
    {
      "cell_type": "code",
      "metadata": {
        "id": "gAKJ6_1bxLT_"
      },
      "source": [
        "# Q 2.2 Return Kth to Last(Singly Linked List)\r\n",
        "def return_kth_from_last(llist, k):\r\n",
        "  p1 = llist.head\r\n",
        "  p2 = llist.head\r\n",
        "  for i in range(k):\r\n",
        "    p1 = p1.next\r\n",
        "  \r\n",
        "  while p1 != None:\r\n",
        "    p1 = p1.next\r\n",
        "    p2 = p2.next\r\n",
        "\r\n",
        "  return p2.data"
      ],
      "execution_count": null,
      "outputs": []
    },
    {
      "cell_type": "code",
      "metadata": {
        "colab": {
          "base_uri": "https://localhost:8080/",
          "height": 34
        },
        "id": "E2WuTiLQyFph",
        "outputId": "884f5b0f-f417-4086-e83f-e79797de4a3d"
      },
      "source": [
        "return_kth_from_last(llist, 4)"
      ],
      "execution_count": null,
      "outputs": [
        {
          "output_type": "execute_result",
          "data": {
            "application/vnd.google.colaboratory.intrinsic+json": {
              "type": "string"
            },
            "text/plain": [
              "'W'"
            ]
          },
          "metadata": {
            "tags": []
          },
          "execution_count": 25
        }
      ]
    },
    {
      "cell_type": "code",
      "metadata": {
        "id": "7INkmgYGyPQD"
      },
      "source": [
        "# Q 2.3 Delete Middle Node (Singly Linked List)\r\n",
        "def delete_node(node):\r\n",
        "  node.data = node.next.data\r\n",
        "  node.next = node.next.next"
      ],
      "execution_count": null,
      "outputs": []
    },
    {
      "cell_type": "code",
      "metadata": {
        "colab": {
          "base_uri": "https://localhost:8080/"
        },
        "id": "ORYkKi_11cv4",
        "outputId": "07f6546b-037a-4e87-bebe-9372adbf3aea"
      },
      "source": [
        "llist.printList()\r\n",
        "delete_node(llist.head.next.next.next)\r\n",
        "llist.printList()"
      ],
      "execution_count": null,
      "outputs": [
        {
          "output_type": "stream",
          "text": [
            "F\n",
            "O\n",
            "L\n",
            "W\n",
            " \n",
            "U\n",
            "P\n",
            "F\n",
            "O\n",
            "L\n",
            " \n",
            "U\n",
            "P\n"
          ],
          "name": "stdout"
        }
      ]
    },
    {
      "cell_type": "code",
      "metadata": {
        "id": "psU570Hm1q9h"
      },
      "source": [
        "# Q 2.4 Partition\r\n",
        "def partition(llist, partitionVal):\r\n",
        "  node = llist.head\r\n",
        "  right_partition = LinkedList()\r\n",
        "  while node != None:\r\n",
        "    if node.data >= partitionVal:\r\n",
        "      right_partition.append(node.data)\r\n",
        "      delete_node(node)\r\n",
        "    else:\r\n",
        "      node = node.next\r\n",
        "  llist.concat(right_partition)"
      ],
      "execution_count": null,
      "outputs": []
    },
    {
      "cell_type": "code",
      "metadata": {
        "colab": {
          "base_uri": "https://localhost:8080/"
        },
        "id": "QtwwurOz7E9z",
        "outputId": "acb7e0eb-45eb-4210-c41d-d73a970d4d2d"
      },
      "source": [
        "numList = LinkedList([3,5,8,5,10,2,1])\r\n",
        "partition(numList, 5)\r\n",
        "numList.printList()"
      ],
      "execution_count": null,
      "outputs": [
        {
          "output_type": "stream",
          "text": [
            "3\n",
            "2\n",
            "1\n",
            "5\n",
            "8\n",
            "5\n",
            "10\n"
          ],
          "name": "stdout"
        }
      ]
    },
    {
      "cell_type": "code",
      "metadata": {
        "id": "ARdsK5U07Gd-"
      },
      "source": [
        "# Q 2.5 Sum Lists\r\n",
        "def sum_list(l1, l2):\r\n",
        "  p1 = l1.head\r\n",
        "  p2 = l2.head\r\n",
        "  sum = LinkedList()\r\n",
        "  carry = 0\r\n",
        "  while p1 and p2:\r\n",
        "    digit_sum = p1.data + p2.data + carry\r\n",
        "    if digit_sum > 9:\r\n",
        "      sum.append(digit_sum-10)\r\n",
        "      carry = 1\r\n",
        "    else:\r\n",
        "      sum.append(digit_sum)\r\n",
        "      carry = 0\r\n",
        "    p1 = p1.next\r\n",
        "    p2 = p2.next\r\n",
        "  \r\n",
        "  if p1:\r\n",
        "    while p2:\r\n",
        "      digit_sum = p2.data + carry\r\n",
        "      if digit_sum > 9:\r\n",
        "        sum.append(digit_sum-10)\r\n",
        "        carry = 1\r\n",
        "      else:\r\n",
        "        sum.append(digit_sum)\r\n",
        "        carry = 0\r\n",
        "      p2 = p2.next\r\n",
        "  \r\n",
        "  if p2:\r\n",
        "    while p1:\r\n",
        "      digit_sum = p1.data + carry\r\n",
        "      if digit_sum > 9:\r\n",
        "        sum.append(digit_sum-10)\r\n",
        "        carry = 1\r\n",
        "      else:\r\n",
        "        sum.append(digit_sum)\r\n",
        "        carry = 0\r\n",
        "      p1 = p1.next\r\n",
        "  return sum"
      ],
      "execution_count": null,
      "outputs": []
    },
    {
      "cell_type": "code",
      "metadata": {
        "colab": {
          "base_uri": "https://localhost:8080/"
        },
        "id": "So8ML_8pIbOu",
        "outputId": "1af743d0-cff2-48e2-d60d-2e3e34651816"
      },
      "source": [
        "num1 = LinkedList([7,1,6])\r\n",
        "num2 = LinkedList([5,9,2])\r\n",
        "sum_list(num1,num2).printList()"
      ],
      "execution_count": null,
      "outputs": [
        {
          "output_type": "stream",
          "text": [
            "2\n",
            "1\n",
            "9\n"
          ],
          "name": "stdout"
        }
      ]
    },
    {
      "cell_type": "code",
      "metadata": {
        "id": "HFlayl7PIqB_"
      },
      "source": [
        "# Q 2.6 Palindrome\r\n",
        "def is_palindrome(llist):\r\n",
        "  res,_ = is_palindrome_recurse(llist.head, llist.length())\r\n",
        "  return res\r\n",
        "\r\n",
        "def is_palindrome_recurse(head, length):\r\n",
        "  if length == 0:\r\n",
        "    return True, None\r\n",
        "  \r\n",
        "  if length == 1:\r\n",
        "    return True, head\r\n",
        "  \r\n",
        "  if length == 2:\r\n",
        "    return head == head.next, head.next\r\n",
        "\r\n",
        "  res, last_node = is_palindrome_recurse(head.next, length-2)\r\n",
        "  return head.data ==  last_node.next.data and res, last_node.next"
      ],
      "execution_count": null,
      "outputs": []
    },
    {
      "cell_type": "code",
      "metadata": {
        "colab": {
          "base_uri": "https://localhost:8080/"
        },
        "id": "k7y49dldJrzk",
        "outputId": "deab2b23-1cc4-47ee-a038-2dd49c8dc4c9"
      },
      "source": [
        "pal_list = LinkedList(['I', 'S', 'A'])\r\n",
        "is_palindrome(pal_list)"
      ],
      "execution_count": null,
      "outputs": [
        {
          "output_type": "execute_result",
          "data": {
            "text/plain": [
              "False"
            ]
          },
          "metadata": {
            "tags": []
          },
          "execution_count": 14
        }
      ]
    },
    {
      "cell_type": "code",
      "metadata": {
        "id": "xQd8kqieKd1O"
      },
      "source": [
        "# Q 2.7 InterSection\r\n",
        "def check_intersection(llist1, llist2):\r\n",
        "  if llist1.last != llist2.last:\r\n",
        "    return False, None\r\n",
        "  \r\n",
        "  longer = llist1 if llist1.length() > llist2.length() else llist2\r\n",
        "  shorter = llist2 if llist1.length() > llist2.length() else llist1\r\n",
        "\r\n",
        "  node1 = longer.get_node((longer.length())-(shorter.length()))\r\n",
        "  node2 = shorter.head\r\n",
        "  while node1 != node2:\r\n",
        "    node1 = node1.next\r\n",
        "    node2 = node2.next\r\n",
        "  \r\n",
        "  return True, node1"
      ],
      "execution_count": null,
      "outputs": []
    },
    {
      "cell_type": "code",
      "metadata": {
        "colab": {
          "base_uri": "https://localhost:8080/"
        },
        "id": "CVz_c04hZUzw",
        "outputId": "d36fa36b-1e76-4cdd-ae26-e81fb5c73ecc"
      },
      "source": [
        "list1 = LinkedList([3, 1, 5, 9])\r\n",
        "list2 = LinkedList([4,6])\r\n",
        "list3 = LinkedList([7,2,1])\r\n",
        "list1.concat(list3)\r\n",
        "list2.concat(list3)\r\n",
        "res, node = check_intersection(list1, list2)\r\n",
        "print(res, node.data)"
      ],
      "execution_count": null,
      "outputs": [
        {
          "output_type": "stream",
          "text": [
            "True 7\n"
          ],
          "name": "stdout"
        }
      ]
    },
    {
      "cell_type": "code",
      "metadata": {
        "id": "sX3mta5BZ5F0"
      },
      "source": [
        "# Q 2.8 Loop Detection\r\n",
        "def detect_loop(llist):\r\n",
        "  slow = llist.head\r\n",
        "  fast = llist.head\r\n",
        "\r\n",
        "  while True:\r\n",
        "    fast = fast.next.next\r\n",
        "    slow = slow.next\r\n",
        "    if fast == slow:\r\n",
        "      break\r\n",
        "  \r\n",
        "  slow = llist.head\r\n",
        "  while slow != fast:\r\n",
        "    fast = fast.next\r\n",
        "    slow = slow.next\r\n",
        "\r\n",
        "  return fast"
      ],
      "execution_count": null,
      "outputs": []
    },
    {
      "cell_type": "code",
      "metadata": {
        "colab": {
          "base_uri": "https://localhost:8080/",
          "height": 34
        },
        "id": "D8fpFkVzchBW",
        "outputId": "7c6d33e8-9656-4ad9-9ae7-125474df3c9e"
      },
      "source": [
        "list1 = LinkedList(['A', 'B', 'C', 'D', 'E'])\r\n",
        "list1.last.next = list1.get_node(2)\r\n",
        "list1.last = list1.last.next\r\n",
        "detect_loop(list1).data"
      ],
      "execution_count": null,
      "outputs": [
        {
          "output_type": "execute_result",
          "data": {
            "application/vnd.google.colaboratory.intrinsic+json": {
              "type": "string"
            },
            "text/plain": [
              "'C'"
            ]
          },
          "metadata": {
            "tags": []
          },
          "execution_count": 70
        }
      ]
    },
    {
      "cell_type": "code",
      "metadata": {
        "id": "29oviWkqecpW"
      },
      "source": [
        "a = [1,2,3]\r\n",
        "a.remove()"
      ],
      "execution_count": null,
      "outputs": []
    },
    {
      "cell_type": "code",
      "metadata": {
        "id": "k0YhtuMfmpCE"
      },
      "source": [
        "class Stack:\r\n",
        "  def __init__(self):\r\n",
        "    self.pylist = []\r\n",
        "\r\n",
        "  def pop(self):\r\n",
        "    return self.pylist.pop()\r\n",
        "\r\n",
        "  def push(self, item):\r\n",
        "    self.pylist.append(item)\r\n",
        "  \r\n",
        "  def peek(self):\r\n",
        "    return self.pylist[-1]\r\n",
        "\r\n",
        "  def isEmpty(self):\r\n",
        "    return (len(self.pylist) == 0)\r\n",
        "  \r\n",
        "  def print(self):\r\n",
        "    for item in stack:\r\n",
        "      print(item)"
      ],
      "execution_count": null,
      "outputs": []
    },
    {
      "cell_type": "code",
      "metadata": {
        "id": "yQZQjrs3n-K6"
      },
      "source": [
        "# Last In First Out\r\n",
        "class Queue:\r\n",
        "  def __init__(self):\r\n",
        "    self.pylist = []\r\n",
        "\r\n",
        "  def add(self, item):\r\n",
        "    self.pylist.append(item)\r\n",
        "\r\n",
        "  def remove(self):\r\n",
        "    self.pylist.remove(self.pylist[0])"
      ],
      "execution_count": null,
      "outputs": []
    },
    {
      "cell_type": "code",
      "metadata": {
        "id": "gwJd48Gfo5K7"
      },
      "source": [
        "class SetOfStacks:\r\n",
        "  def __init__(self):"
      ],
      "execution_count": null,
      "outputs": []
    },
    {
      "cell_type": "code",
      "metadata": {
        "id": "bHW49vQeU1gX"
      },
      "source": [
        "threshold = 5\r\n",
        "\r\n",
        "class SetOfStacks:\r\n",
        "  def __init__(self):\r\n",
        "    self.stacks = []\r\n",
        "    self.stacks.append(Stack())\r\n",
        "  \r\n",
        "  def pop(self):\r\n",
        "    popVal = self.stacks[-1].pop()\r\n",
        "    if self.stacks[-1].isEmpty():\r\n",
        "      self.stacks.pop()\r\n",
        "    return popVal\r\n",
        "  \r\n",
        "  def push(self, item):\r\n",
        "    if len(self.stacks[-1].pylist) == threshold:\r\n",
        "      self.stacks.append(Stack())\r\n",
        "    self.stacks[-1].push(item)\r\n",
        "  \r\n",
        "  def print(self):\r\n",
        "    for stack in self.stacks:\r\n",
        "      for item in stack.pylist:\r\n",
        "        print(item)\r\n",
        "      print(\"--------------------------\")"
      ],
      "execution_count": null,
      "outputs": []
    },
    {
      "cell_type": "code",
      "metadata": {
        "colab": {
          "base_uri": "https://localhost:8080/"
        },
        "id": "Q9MG9IycV8Ld",
        "outputId": "9f0b48a5-5ffb-4a5c-c451-209cff807f3b"
      },
      "source": [
        "setofStacks = SetOfStacks()\r\n",
        "for i in range(22):\r\n",
        "  setofStacks.push(i)\r\n",
        "\r\n",
        "setofStacks.print()\r\n",
        "setofStacks.pop()\r\n",
        "setofStacks.pop()\r\n",
        "setofStacks.pop()\r\n",
        "setofStacks.print()"
      ],
      "execution_count": null,
      "outputs": [
        {
          "output_type": "stream",
          "text": [
            "0\n",
            "1\n",
            "2\n",
            "3\n",
            "4\n",
            "--------------------------\n",
            "5\n",
            "6\n",
            "7\n",
            "8\n",
            "9\n",
            "--------------------------\n",
            "10\n",
            "11\n",
            "12\n",
            "13\n",
            "14\n",
            "--------------------------\n",
            "15\n",
            "16\n",
            "17\n",
            "18\n",
            "19\n",
            "--------------------------\n",
            "20\n",
            "21\n",
            "--------------------------\n",
            "0\n",
            "1\n",
            "2\n",
            "3\n",
            "4\n",
            "--------------------------\n",
            "5\n",
            "6\n",
            "7\n",
            "8\n",
            "9\n",
            "--------------------------\n",
            "10\n",
            "11\n",
            "12\n",
            "13\n",
            "14\n",
            "--------------------------\n",
            "15\n",
            "16\n",
            "17\n",
            "18\n",
            "--------------------------\n"
          ],
          "name": "stdout"
        }
      ]
    },
    {
      "cell_type": "code",
      "metadata": {
        "colab": {
          "base_uri": "https://localhost:8080/",
          "height": 187
        },
        "id": "Jv18TY7rV_zF",
        "outputId": "69705387-0323-41ee-ba53-cac9c5a730d8"
      },
      "source": [
        "a = [1,2,3]\r\n",
        "a"
      ],
      "execution_count": null,
      "outputs": [
        {
          "output_type": "error",
          "ename": "AttributeError",
          "evalue": "ignored",
          "traceback": [
            "\u001b[0;31m---------------------------------------------------------------------------\u001b[0m",
            "\u001b[0;31mAttributeError\u001b[0m                            Traceback (most recent call last)",
            "\u001b[0;32m<ipython-input-10-2cdb27573693>\u001b[0m in \u001b[0;36m<module>\u001b[0;34m()\u001b[0m\n\u001b[1;32m      1\u001b[0m \u001b[0ma\u001b[0m \u001b[0;34m=\u001b[0m \u001b[0;34m[\u001b[0m\u001b[0;36m1\u001b[0m\u001b[0;34m,\u001b[0m\u001b[0;36m2\u001b[0m\u001b[0;34m,\u001b[0m\u001b[0;36m3\u001b[0m\u001b[0;34m]\u001b[0m\u001b[0;34m\u001b[0m\u001b[0;34m\u001b[0m\u001b[0m\n\u001b[0;32m----> 2\u001b[0;31m \u001b[0ma\u001b[0m\u001b[0;34m.\u001b[0m\u001b[0mlength\u001b[0m\u001b[0;34m(\u001b[0m\u001b[0;34m)\u001b[0m\u001b[0;34m\u001b[0m\u001b[0;34m\u001b[0m\u001b[0m\n\u001b[0m",
            "\u001b[0;31mAttributeError\u001b[0m: 'list' object has no attribute 'length'"
          ]
        }
      ]
    },
    {
      "cell_type": "code",
      "metadata": {
        "id": "a7xdgfjpWvGw"
      },
      "source": [
        "class SetOfStacks:\r\n",
        "  def __init__(self):\r\n",
        "    self.pylist=[]\r\n",
        "\r\n",
        "  def pop(self):\r\n",
        "    return self.pylist.pop()\r\n",
        "\r\n",
        "  def push(self, item):\r\n",
        "    if (len(self.pylist) == 0 or len(self.pylist[-1]) == 5):\r\n",
        "        self.pylist.append([item])\r\n",
        "    else:\r\n",
        "        self.pylist[-1].append(item)\r\n",
        "\r\n",
        "  def popAt(self, idx):\r\n",
        "    # pop operation on a specific sub stack\r\n",
        "    return self.pylist[idx].pop()\r\n",
        "\r\n",
        "\r\n",
        "def main():\r\n",
        "    stacks = SetOfStacks()\r\n",
        "    for i in range(16):\r\n",
        "        stacks.push(i)\r\n",
        "    print(stacks.pylist)\r\n",
        "    stacks.popAt(1)\r\n",
        "    print(stacks.pylist)"
      ],
      "execution_count": null,
      "outputs": []
    },
    {
      "cell_type": "code",
      "metadata": {
        "id": "5xq7FD0AZDIl"
      },
      "source": [
        "# \r\n",
        "def sort(s):\r\n",
        "  if s.isEmpty():\r\n",
        "    return Stack()\r\n",
        "\r\n",
        "  pivot = s.pop()\r\n",
        "  lower = Stack()\r\n",
        "  higher = Stack()\r\n",
        "\r\n",
        "  while not s.isEmpty():\r\n",
        "    val = s.pop()\r\n",
        "    if val > pivot:\r\n",
        "      higher.push(val)\r\n",
        "    else:\r\n",
        "      lower.push(val)\r\n",
        "\r\n",
        "  lower = sort(lower)\r\n",
        "  higher = sort(higher)\r\n",
        "\r\n",
        "  lower.push(pivot)\r\n",
        "\r\n",
        "  tmp_stack = Stack()\r\n",
        "  while not higher.isEmpty():\r\n",
        "    tmp_stack.push(higher.pop())\r\n",
        "  \r\n",
        "  while not tmp_stack.isEmpty():\r\n",
        "    lower.push(tmp_stack.pop())\r\n",
        "\r\n",
        "  return lower"
      ],
      "execution_count": null,
      "outputs": []
    },
    {
      "cell_type": "code",
      "metadata": {
        "colab": {
          "base_uri": "https://localhost:8080/"
        },
        "id": "cMbqgr6dmWU1",
        "outputId": "69ae17c2-871d-4e71-9797-53a02c0aac60"
      },
      "source": [
        "s = Stack()\r\n",
        "s.push(2)\r\n",
        "s.push(1)\r\n",
        "s.push(3)\r\n",
        "s.push(5)\r\n",
        "s.push(4)\r\n",
        "print(s.pylist)\r\n",
        "print(sort(s).pylist)"
      ],
      "execution_count": null,
      "outputs": [
        {
          "output_type": "stream",
          "text": [
            "[2, 1, 3, 5, 4]\n",
            "[1, 2, 3, 4, 5]\n"
          ],
          "name": "stdout"
        }
      ]
    },
    {
      "cell_type": "code",
      "metadata": {
        "id": "P9eYzrzymlai"
      },
      "source": [
        ""
      ],
      "execution_count": null,
      "outputs": []
    }
  ]
}